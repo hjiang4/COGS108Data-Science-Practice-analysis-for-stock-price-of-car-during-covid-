{
 "cells": [
  {
   "cell_type": "markdown",
   "metadata": {},
   "source": [
    "# COGS 108 - Final Project Proposal"
   ]
  },
  {
   "cell_type": "markdown",
   "metadata": {},
   "source": [
    "# Names\n",
    "\n",
    "- Chenyu Zhang A16526395\n",
    "- Zhengxi Zhang A17220038\n",
    "- Mengyuan Zhang A15598814\n",
    "- Harry Lei A15890785\n",
    "- Hongchang Jiang A17180573"
   ]
  },
  {
   "cell_type": "markdown",
   "metadata": {},
   "source": [
    "# Research Question"
   ]
  },
  {
   "cell_type": "markdown",
   "metadata": {},
   "source": [
    "Is there a relationship between daily increase of Coronavirus disease cases in the United States and the amount of car purchased in the United States? If there is, what are the main factors that lead to buying or not buying?\n"
   ]
  },
  {
   "cell_type": "markdown",
   "metadata": {},
   "source": [
    "## Background and Prior Work"
   ]
  },
  {
   "cell_type": "markdown",
   "metadata": {},
   "source": [
    "## Introduction:\n",
    "As a major automobile producer, the economic development of many regions in the United States largely depends on the automobile industry. For example, in Detroit, auto workers once became synonymous with the city, and car production depends to some extent on sales volume. Only with sufficient sales volume can economic activities such as car production continue without causing layoffs. As an automobile company, it is essential to analyze the possible sales volume in the future to adopt the production work policy for the next quarter. But with the outbreak of the 2020 Covid epidemic in the United States, social distancing and remote work policies may greatly affect people's going out and the demand for cars. On the other hand, for many people who took public transportation before the epidemic, the fear of infection due to social distancing has also increased their demand for cars. This makes the analysis of the data with great uncertainty. So in our study, we tried to understand whether there was a close relationship between the severity of the outbreak (the daily coronavirus cases in the US) and car purchases in the US. <br>\n",
    "\n",
    "## Prior Work:\n",
    "We chose a few similar works conducted related to the relationship between the car market and Covid-19’s impact. One study indicated that due to avoiding mass transportation, Covid-19 has led to an increase in used car sales.According to his point of view, car sales in the early stage of the epidemic have dropped significantly, but with the re-influence of Delta and omicron, people's demand for private transportation travel will rise again. It is expected that the sales volume that has dropped sharply in the early stage of the epidemic due to remote working, keeping social distance and other policies will pick up again, that is, the decrease in the number of infected people may lead to an increase in car sales. In another study focused on the saling cases of auto industries during pandemic, the researchers compared the data of the car manufacturers before and after the pandemic and drew the conclusion that the car manufacturers faced disruption in business areas and had trouble with remote saling patterns during the pandemic.\n",
    "<br>\n",
    "<br>\n",
    "According to the prior works we found, we noticed that a larger number of researchers concluded that the pandemic has a positive relationship with the decrease of car sales compared to the opposite opinion.  Thus, we decided that though there are many elements affecting the number of car sales, we can hypothesize that there is a relationship between the increase of coronavirus disease cases and the decrease of car purchases in the US.\n",
    "\n",
    "<br>\n",
    "reference: <br>\n",
    "1.[The used car boom is one of the hottest, and trickiest, coronavirus markets for consumers](https://www.cnbc.com/2020/10/15/used-car-boom-is-one-of-hottest-coronavirus-markets-for-consumers.html)\n",
    "\n",
    "2.[The case of sales in the automotive industry during theCOVID-19 pandemic](https://onlinelibrary.wiley.com/share/JR7NBGPACG4NCCMFWEI8?target=10.1002/jsc.2395)\n",
    "\n",
    "\n"
   ]
  },
  {
   "cell_type": "markdown",
   "metadata": {},
   "source": [
    "# Hypothesis\n"
   ]
  },
  {
   "cell_type": "markdown",
   "metadata": {},
   "source": [
    "Based on our background and prior work, our hypothesis is that there is a relationship between the increase of coronavirus disease cases and the decrease of car purchases in the US.\n",
    "<br>\n",
    "We made this hypothesis based on our understanding of the background of our topic: families may not be able to afford cars because of the decrease of income caused by the pandemic, and the demand for using cars is also decreased during remote working and studying. The research and data we found in the related works also support our hypothesis.\n"
   ]
  },
  {
   "cell_type": "markdown",
   "metadata": {},
   "source": [
    "# Data"
   ]
  },
  {
   "cell_type": "markdown",
   "metadata": {},
   "source": [
    "1. Data regarding car sells:\n",
    "    - Variable: Type, Price, MPGCity, DriveTrian, Passengers, Weight\n",
    "    - The variables would be stored as a csv file.\n",
    "    - We can use this data set and the dataset of “California’s best-selling vehicles of 2020” to have the observation about \n",
    "        1. what kind of vehicles the customers would like to purchase in 2020\n",
    "        2. whether there’s any connection between the pandemic and the kind of vehicles the customers would like to purchase\n",
    "    - The time period would be over the whole 2020 calendar year\n",
    "2. Data regarding Covid-19:\n",
    "    - Variable: Confirmed_death, Confirmed_cases\n",
    "    - The variable would be first arranged, then stored as csv file\n",
    "    - The observation would be between 12/01/2019 and 03/01/2021, where we have a huge increase of both confirmed cases and confirmed deaths, we can compare the amount of these two variables and the amount of new vehicle registered in the other dataset\n",
    "\n",
    "\n",
    "\n"
   ]
  },
  {
   "cell_type": "markdown",
   "metadata": {},
   "source": [
    "# Ethics & Privacy"
   ]
  },
  {
   "cell_type": "markdown",
   "metadata": {},
   "source": [
    "Given that our research question relates to a somewhat sensitive topic: the ongoing penemic of Covid-19, we need to be extra cautious about the dataset we choose to use to make sure that personally identifiable information is as limited as possible while making sure that the lack of PII would not impair the progress of our research. In addition, we make sure that all datasets are collected with informed consent, meaning that all observations are aware that they’re being sampled. \n",
    "<br>\n",
    "Apart from data related to Covid-19, we also need to be cautious about the data regarding car sales, as a single source of information tends to be biased considering such resources may be influenced due to sponsorship from car brands. Thus, it is imperative that we collect data from multiple sources to minimize potential bias that could exist in our data. \n"
   ]
  },
  {
   "cell_type": "markdown",
   "metadata": {},
   "source": [
    "# Team Expectations "
   ]
  },
  {
   "cell_type": "markdown",
   "metadata": {},
   "source": [
    "* The work loads should be equally spread to each of the team members\n",
    "* Each of team members should complete the assigned part before the soft deadlines we made in the team\n",
    "* Team members should be respectful to each other’s work and ideas during the meetings\n",
    "* Team members should attend every meetings if there’s no excuses"
   ]
  },
  {
   "cell_type": "markdown",
   "metadata": {},
   "source": [
    "# Project Timeline Proposal"
   ]
  },
  {
   "cell_type": "markdown",
   "metadata": {},
   "source": [
    "| Meeting Date  | Meeting Time| Completed Before Meeting  | Discuss at Meeting |\n",
    "|---|---|---|---|\n",
    "| 1/20  |  1 PM | Read & Think about COGS 108 project specifications; brainstorm topics/questions  | Determine best form of communication; Discuss and decide on final project topic; discuss hypothesis; begin background research | \n",
    "| 1/26  |  5 PM |  Do background research on topic | Discuss ideal dataset(s) and ethics; draft project proposal | \n",
    "| 1/28  | 10 AM  | Finalize project proposals   | Discuss Wrangling and possible analytical approaches; Delegate tasks for each group member   |\n",
    "| 2/5  | 5 PM  | Import & Wrangle Data (Ant Man); EDA (Hulk) | Review/Edit wrangling/EDA; Discuss Analysis Plan   |\n",
    "| 2/15  | 5 PM  | Finalize wrangling/EDA; Begin Analysis (Iron Man; Thor) | Review wrangling/EDA, debug potential problems, delate tasks to team members for analysis|\n",
    "| 2/25  | 5 PM  | Complete analysis; Draft results/conclusion/discussion (Wasp)| Discuss/edit full project, review each procedure to avoid potential problems |\n",
    "| 3/8 | 5 PM | Review the entire project | Get ready to submit the project | \n",
    "| 3/19  | Before 11:59 PM  | NA | Turn in Final Project & Group Project Surveys |"
   ]
  }
 ],
 "metadata": {
  "kernelspec": {
   "display_name": "Python 3 (ipykernel)",
   "language": "python",
   "name": "python3"
  },
  "language_info": {
   "codemirror_mode": {
    "name": "ipython",
    "version": 3
   },
   "file_extension": ".py",
   "mimetype": "text/x-python",
   "name": "python",
   "nbconvert_exporter": "python",
   "pygments_lexer": "ipython3",
   "version": "3.9.5"
  }
 },
 "nbformat": 4,
 "nbformat_minor": 2
}
